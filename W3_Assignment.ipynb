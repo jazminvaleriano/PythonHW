{
 "cells": [
  {
   "cell_type": "markdown",
   "metadata": {},
   "source": [
    "<h2><center>Week 3 - Assignment</center></h2>\n",
    "<h3><center>Programming for Data Science 2024</center></h3>"
   ]
  },
  {
   "cell_type": "markdown",
   "metadata": {},
   "source": [
    "Exercises for the topics covered in the third lecture.\n",
    "\n",
    "The exercise will be marked as passed if you get **at least 10/15** points.\n",
    "\n",
    "Exercises must be handed in via **ILIAS** (Homework assignments). Deliver your submission as a compressed file (zip) containing one .py or .ipynb file with all exercises. The name of both the .zip and the .py/.ipynb file must be *SurnameName* of the two members of the group. Example: Riccardo Cusinato + Athina Tzovara = *CusinatoRiccardo_TzovaraAthina.zip* .\n",
    "\n",
    "It's important to use comments to explain your code and show that you're able to take ownership of the exercises and discuss them.\n",
    "\n",
    "You are not expected to collaborate outside of the group on exercises and submitting other groups’ code as your own will result in 0 points.\n",
    "\n",
    "For questions contact: *riccardo.cusinato@unibe.ch* with the subject: *Programming for Data Science 2024*.\n",
    "\n",
    "**Deadline: 14:00, March 14, 2024.**"
   ]
  },
  {
   "cell_type": "markdown",
   "metadata": {},
   "source": [
    "<h3 style=\"text-align:left;\">Exercise 1 - Error investigation<span style=\"float: right\">2 points</span></h3>"
   ]
  },
  {
   "cell_type": "markdown",
   "metadata": {},
   "source": [
    "The code below squares and sums the numbers in the array *arr*, and holds the result in the variable *squared_sum*, which should be 1135. However, that is not the case. Correct the code and explain in a comment , clearly and amply, what was wrong."
   ]
  },
  {
   "cell_type": "code",
   "execution_count": 2,
   "metadata": {},
   "outputs": [
    {
     "data": {
      "text/plain": [
       "-145"
      ]
     },
     "execution_count": 2,
     "metadata": {},
     "output_type": "execute_result"
    }
   ],
   "source": [
    "import numpy as np\n",
    "\n",
    "arr = np.array([13, 14, 15, 16, 17], dtype=np.int8)\n",
    "squared_sum = np.sum(arr ** 2)\n",
    "squared_sum"
   ]
  },
  {
   "cell_type": "code",
   "execution_count": 1,
   "metadata": {},
   "outputs": [
    {
     "name": "stdout",
     "output_type": "stream",
     "text": [
      "1135\n"
     ]
    }
   ],
   "source": [
    "import numpy as np\n",
    "\n",
    "# Define the array 'arr' with correct data type (dtype). The data type int8 only represent values from -128 t0 127.\n",
    "# When the values get squared, they exceed this limit. \n",
    "# The int16 data type represents values from -32768 to 32767\n",
    "arr = np.array([13, 14, 15, 16, 17], dtype=np.int16)\n",
    "\n",
    "# Calculate the sum of squared elements in the array 'arr'.\n",
    "squared_sum = np.sum(arr ** 2)\n",
    "\n",
    "# Display the result\n",
    "print(squared_sum)"
   ]
  },
  {
   "cell_type": "markdown",
   "metadata": {},
   "source": [
    "<h3 style=\"text-align:left;\">Exercise 2 - Vacation selector<span style=\"float: right\">3 points</span></h3>"
   ]
  },
  {
   "cell_type": "markdown",
   "metadata": {},
   "source": [
    "The code below defines five vacation destinations (*locations*) and four attributes for each (*attributes*). Each row describes one destination, and the columns represent scores on the factors scenery, activities, food, and nightlife.\n",
    "\n",
    "Write a function *vacation_advisor* that asks the user whether they find each of the attributes important or not, and suggests the best vacation spot based on these preferences.\n",
    "\n",
    "Use techniques from the third lecture to solve the exercise.\n",
    "\n",
    "Example interaction:\n",
    "```python\n",
    "Is scenery important to you [y/n]?    > y\n",
    "Is activities important to you [y/n]? > y\n",
    "Is food important to you [y/n]?       > n\n",
    "Is nightlife important to you [y/n]?  > n\n",
    "Based on your preferences, the best destination is Australia\n",
    "```"
   ]
  },
  {
   "cell_type": "code",
   "execution_count": null,
   "metadata": {},
   "outputs": [],
   "source": [
    "# List of destinations\n",
    "locations = np.array([ \"Hawaii\", \"Thailand\", \"Italy\", \"Australia\", \"Japan\" ])\n",
    "\n",
    "# List of attributes for each destination. Each column is an attribute. Each row a destination.\n",
    "attributes = np.array([\n",
    "    [8, 8, 7, 6],\n",
    "    [7, 9, 8, 7],\n",
    "    [8, 6, 9, 7],\n",
    "    [9, 8, 8, 6],\n",
    "    [7, 9, 7, 8]\n",
    "])\n",
    "\n",
    "# Declare attribute names and initialize boolean array with preferences\n",
    "attribute_names = ['scenery', 'activities', 'food', 'nightlife']\n"
   ]
  },
  {
   "cell_type": "code",
   "execution_count": 3,
   "metadata": {},
   "outputs": [
    {
     "name": "stdout",
     "output_type": "stream",
     "text": [
      "Based on your preferences, the best destination is Italy\n"
     ]
    }
   ],
   "source": [
    "import numpy as np\n",
    "\n",
    "# List of destinations\n",
    "locations = np.array([\"Hawaii\", \"Thailand\", \"Italy\", \"Australia\", \"Japan\"])\n",
    "\n",
    "# List of attributes for each destination. Each column is an attribute and each row is a destination.\n",
    "attributes = np.array([\n",
    "    [8, 8, 7, 6],\n",
    "    [7, 9, 8, 7],\n",
    "    [8, 6, 9, 7],\n",
    "    [9, 8, 8, 6],\n",
    "    [7, 9, 7, 8]\n",
    "])\n",
    "\n",
    "# Declare attribute names\n",
    "attribute_names = ['scenery', 'activities', 'food', 'nightlife']\n",
    "\n",
    "def vacation_advisor(locations, attributes, attribute_names):\n",
    "    # Initialize a list to save user preferences for each attribute\n",
    "    preferences = []\n",
    "    for attribute in attribute_names:\n",
    "        preference = input(f\"Is {attribute} important to you [y/n]? \").lower()\n",
    "        preferences.append(preference == 'y')\n",
    "\n",
    "    # Calculate scores based on preferences.\n",
    "    # NumPy's array slicing selects columns of the 'attributes' array corresponding to the user's preferences.\n",
    "    # 'attributes[:, preferences]' selects all rows (destinations) and only the columns (attributes) for which the user indicated 'y'.\n",
    "    # Then, we sum these scores along axis 1, which corresponds to summing the scores horizontally for each destination.\n",
    "    # This gives us a total score for each destination based on the user's preferences.\n",
    "    scores = np.sum(attributes[:, preferences], axis=1)\n",
    "\n",
    "    # Find the location with the highest score.\n",
    "    best_location = np.argmax(scores)\n",
    "\n",
    "    # Return the best destination\n",
    "    return locations[best_location]\n",
    "\n",
    "# Example\n",
    "best_destination = vacation_advisor(locations, attributes, attribute_names)\n",
    "print(f\"Based on your preferences, the best destination is {best_destination}\")"
   ]
  },
  {
   "cell_type": "markdown",
   "metadata": {},
   "source": [
    "<h3 style=\"text-align:left;\">Exercise 3 - Indexing<span style=\"float: right\">3 points</span></h3>"
   ]
  },
  {
   "cell_type": "markdown",
   "metadata": {},
   "source": [
    "You have two arrays of the same length: temperature *temp*, and humidity, *rh*. Write a program that:\n",
    "1) Substitutes the values of *temp* for which the corresponding values of *rh* is less than 0.3 with *np.nan*.\n",
    "2) On this new temperature array, calculate the mean value (do **not** calculate it on the original array).\n",
    "\n",
    "As an example:\n",
    "\n",
    "```python\n",
    "temp = [70, 80, 90]\n",
    "rh = [0.5, 0.2, 0.6]\n",
    "\n",
    "temp_nan --> [70, np.nan, 90]\n",
    "temp_avg --> 80\n",
    "```"
   ]
  },
  {
   "cell_type": "code",
   "execution_count": null,
   "metadata": {},
   "outputs": [],
   "source": [
    "# Generate some surrogate data\n",
    "\n",
    "np.random.seed(29041996)  # Make sure we all have the same data\n",
    "temp = 20 * np.cos(np.linspace(0, 2 * np.pi, 100)) + 80 + 2 * np.random.randn(100)\n",
    "rh = np.abs(0.1 * np.cos(np.linspace(0, 4 * np.pi, 100)) \n",
    "            + 0.3 + 0.05 * np.random.randn(100))"
   ]
  },
  {
   "cell_type": "code",
   "execution_count": 3,
   "metadata": {},
   "outputs": [
    {
     "name": "stdout",
     "output_type": "stream",
     "text": [
      "Original temperature array: [ 97.61100965  98.29758553 100.01692772  98.73758771  98.38710799\n",
      " 100.80608254 100.42365343  98.52308703  97.34895106  99.28378744\n",
      "  97.20744463  94.70357922  96.04562611  93.34385695  92.5829538\n",
      "  89.2217891   89.41943969  89.29899731  86.80588045  87.60975851\n",
      "  81.47344699  83.628802    85.50239525  79.37466777  80.04810635\n",
      "  84.837633    77.43274549  78.00459464  75.23720259  69.94417772\n",
      "  74.0266622   74.32792435  68.2078899   67.89297449  68.73828046\n",
      "  67.47413002  68.54133082  65.53398191  64.56197892  64.19909813\n",
      "  64.2674743   65.00932144  59.92352112  63.86983538  61.88582567\n",
      "  59.71619218  59.84554475  60.32812302  59.09837842  60.02298563\n",
      "  58.56227652  58.99225298  57.80804413  61.99996728  61.91705067\n",
      "  60.34955294  62.5543744   62.38104106  63.4845015   63.96025183\n",
      "  64.60977283  66.26614781  65.304059    68.41834429  65.57144047\n",
      "  70.19460513  69.75206232  70.54582028  72.09681853  74.35744312\n",
      "  76.52622581  73.01519316  75.38655192  76.61122227  82.21822506\n",
      "  81.84605843  81.71996332  84.036797    86.87489857  86.7058803\n",
      "  86.03648805  86.12004562  90.13631266  87.62687632  95.04176161\n",
      "  93.85419037  95.27172807  96.21598976  97.89869336  94.55997044\n",
      "  96.62423422  95.02339723  98.77024595  98.15449335 100.59028821\n",
      " 102.35504581  98.02689537 102.72101463  99.04552748 101.36241685]\n",
      "Relative humidity array: [0.37649075 0.41857708 0.41553862 0.35028076 0.40030482 0.32611461\n",
      " 0.33361994 0.29817462 0.37445786 0.44330325 0.28393897 0.34688538\n",
      " 0.29393155 0.26427713 0.27366295 0.30858741 0.31015845 0.23086889\n",
      " 0.18009702 0.27419489 0.30991538 0.15569686 0.23615136 0.25741361\n",
      " 0.13766841 0.22554345 0.23960904 0.13851389 0.25742692 0.22414586\n",
      " 0.26961629 0.18335367 0.28674179 0.25754613 0.31119358 0.35520544\n",
      " 0.32894799 0.30334288 0.3727636  0.32481739 0.27485596 0.26167378\n",
      " 0.35235689 0.4015986  0.43445632 0.3398031  0.38966828 0.43772596\n",
      " 0.47284863 0.39973687 0.38113616 0.3964504  0.34324162 0.42071724\n",
      " 0.36577697 0.35257995 0.37101488 0.35909791 0.25515167 0.34605456\n",
      " 0.43186955 0.33807326 0.31587005 0.34303918 0.31680012 0.2782853\n",
      " 0.20402395 0.13503806 0.20566109 0.21914247 0.11528564 0.1681847\n",
      " 0.259898   0.26821929 0.21494721 0.22332797 0.27619651 0.214829\n",
      " 0.29862707 0.32769864 0.30461726 0.1907282  0.29671991 0.27934219\n",
      " 0.29073445 0.2801714  0.35382345 0.32424633 0.38425648 0.28288191\n",
      " 0.30032103 0.36548736 0.24780526 0.28916525 0.38286282 0.41485635\n",
      " 0.37268343 0.45069256 0.40378823 0.43531639]\n",
      "Temperature array with np.nan: [ 97.61100965  98.29758553 100.01692772  98.73758771  98.38710799\n",
      " 100.80608254 100.42365343          nan  97.34895106  99.28378744\n",
      "          nan  94.70357922          nan          nan          nan\n",
      "  89.2217891   89.41943969          nan          nan          nan\n",
      "  81.47344699          nan          nan          nan          nan\n",
      "          nan          nan          nan          nan          nan\n",
      "          nan          nan          nan          nan  68.73828046\n",
      "  67.47413002  68.54133082  65.53398191  64.56197892  64.19909813\n",
      "          nan          nan  59.92352112  63.86983538  61.88582567\n",
      "  59.71619218  59.84554475  60.32812302  59.09837842  60.02298563\n",
      "  58.56227652  58.99225298  57.80804413  61.99996728  61.91705067\n",
      "  60.34955294  62.5543744   62.38104106          nan  63.96025183\n",
      "  64.60977283  66.26614781  65.304059    68.41834429  65.57144047\n",
      "          nan          nan          nan          nan          nan\n",
      "          nan          nan          nan          nan          nan\n",
      "          nan          nan          nan          nan  86.7058803\n",
      "  86.03648805          nan          nan          nan          nan\n",
      "          nan  95.27172807  96.21598976  97.89869336          nan\n",
      "  96.62423422  95.02339723          nan          nan 100.59028821\n",
      " 102.35504581  98.02689537 102.72101463  99.04552748 101.36241685]\n",
      "Mean temperature (excluding np.nan): 79.00078388998652\n"
     ]
    }
   ],
   "source": [
    "import numpy as np\n",
    "\n",
    "# Generate surrogate data\n",
    "np.random.seed(29041996)  # Make sure we all have the same data\n",
    "temp = 20 * np.cos(np.linspace(0, 2 * np.pi, 100)) + 80 + 2 * np.random.randn(100)\n",
    "rh = np.abs(0.1 * np.cos(np.linspace(0, 4 * np.pi, 100)) + 0.3 + 0.05 * np.random.randn(100))\n",
    "\n",
    "# Threshold for replacing values with np.nan\n",
    "threshold = 0.3\n",
    "\n",
    "# Replace temperature values with np.nan where rh < threshold\n",
    "temp_nan = np.where(rh < threshold, np.nan, temp)\n",
    "\n",
    "# Calculate the mean value of the modified temperature array\n",
    "temp_avg = np.nanmean(temp_nan)\n",
    "\n",
    "# Display the results\n",
    "print(\"Original temperature array:\", temp)\n",
    "print(\"Relative humidity array:\", rh)\n",
    "print(\"Temperature array with np.nan:\", temp_nan)\n",
    "print(\"Mean temperature (excluding np.nan):\", temp_avg)"
   ]
  },
  {
   "cell_type": "markdown",
   "metadata": {},
   "source": [
    "<h3 style=\"text-align:left;\">Exercise 4 - Base converter<span style=\"float: right\">2 points</span></h3>"
   ]
  },
  {
   "cell_type": "markdown",
   "metadata": {},
   "source": [
    "Write a function *int_to_bin* that takes a positive integer as input and returns the binary equivalent of that integer.\n",
    "\n",
    "You can **not** use built-in methods such as *bin()* in your solution."
   ]
  },
  {
   "cell_type": "code",
   "execution_count": 12,
   "metadata": {},
   "outputs": [
    {
     "name": "stdout",
     "output_type": "stream",
     "text": [
      "Binary notation:  110111\n"
     ]
    }
   ],
   "source": [
    "###\n",
    "\n",
    "def int_to_bin(n):\n",
    "    '''\n",
    "    Convert a positive integer to its binary equivalent.\n",
    "\n",
    "    Parameters:\n",
    "        n (int): A positive integer to be converted to binary.\n",
    "\n",
    "    Returns:\n",
    "        str: The binary representation of the input integer.\n",
    "    '''\n",
    "    # If the number is 0, it can be directly returned as 0\n",
    "    if n == 0:\n",
    "        return '0'\n",
    "    \n",
    "    # Iterate until the number is 0, store in 'binary'\n",
    "    binary = ''\n",
    "    while n > 0:\n",
    "        # Apend the remainder of n % 2 to the binary (0 or 1)\n",
    "        binary = str(n % 2) + binary\n",
    "        # Divide by 2 (integer division) to move to the next bit\n",
    "        n //= 2\n",
    "    \n",
    "    return binary\n",
    "\n",
    "# Example use\n",
    "\n",
    "output = int_to_bin(55)\n",
    "print('Binary notation: ',output)\n",
    "###"
   ]
  },
  {
   "cell_type": "markdown",
   "metadata": {},
   "source": [
    "<h3 style=\"text-align:left;\">Exercise 5 - Broadcasting<span style=\"float: right\">2 points</span></h3>"
   ]
  },
  {
   "cell_type": "markdown",
   "metadata": {},
   "source": [
    "Reshape *a* so it is possible to multiply *a* and *b*, and explain why you had to reshape *a* to be able to multiply the two arrays."
   ]
  },
  {
   "cell_type": "code",
   "execution_count": 28,
   "metadata": {},
   "outputs": [
    {
     "name": "stdout",
     "output_type": "stream",
     "text": [
      "Shape of a:  (2, 3)\n",
      "Shape of b:  (2,)\n",
      "Shape of b_reshaped:  (2, 1)\n",
      "[[ 2  4  6]\n",
      " [12 15 18]]\n"
     ]
    }
   ],
   "source": [
    "import numpy as np\n",
    "\n",
    "a = np.array([[1, 2, 3], [4, 5, 6]])\n",
    "b = np.array([2, 3])\n",
    "\n",
    "###\n",
    "print('Shape of a: ',a.shape)\n",
    "print('Shape of b: ',b.shape)\n",
    "\n",
    "# Reshape b to add 1 dimension to match a:\n",
    "b_reshaped = b.reshape(-1, 1)\n",
    "print('Shape of b_reshaped: ',b_reshaped.shape)\n",
    "\n",
    "# Test if multiplication is possible with reshaped array\n",
    "print(a*b_reshaped)\n",
    "###"
   ]
  },
  {
   "cell_type": "code",
   "execution_count": 29,
   "metadata": {},
   "outputs": [],
   "source": [
    "###\n",
    "# NumPy's broadcasting rules dictate that for two arrays to be broadcastable, their shapes must be compatible.\n",
    "# In this case, broadcasting the one-dimensional array (2,) to match the shape (2,3) isn't possible because the dimensions don't align.\n",
    "# The number of dimensions and the size of each dimension must either match or be one in at least one of the arrays, \n",
    "# By turning array b into a column vector we get 2 dimensions, with the second one having size 1, which allows for broadcasting. \n",
    "###"
   ]
  },
  {
   "cell_type": "markdown",
   "metadata": {},
   "source": [
    "<h3 style=\"text-align:left;\">Exercise 6 - Moving average<span style=\"float: right\">3 points</span></h3>"
   ]
  },
  {
   "cell_type": "markdown",
   "metadata": {},
   "source": [
    "Given the array of values, *a*, we can calculate the moving average by averaging nearby values and repeating the procedure sliding along the array. Here's an example of a 3-point moving average (ignoring the edges), with a for loop:"
   ]
  },
  {
   "cell_type": "code",
   "execution_count": 30,
   "metadata": {},
   "outputs": [
    {
     "name": "stdout",
     "output_type": "stream",
     "text": [
      "[29.2 30.5 31.2 30.9 29.1 32.5 30.1 30.3 29.3 29.3 29.4 30.6 26.4 29.4\n",
      " 28.4 24.8 32.1 28.9 29.7 29. ]\n",
      "[29.2        30.3        30.86666667 30.4        30.83333333 30.56666667\n",
      " 30.96666667 29.9        29.63333333 29.33333333 29.76666667 28.8\n",
      " 28.8        28.06666667 27.53333333 28.43333333 28.6        30.23333333\n",
      " 29.2        29.        ]\n"
     ]
    }
   ],
   "source": [
    "a = np.round(30 + np.random.randn(20) * 2, 1)\n",
    "print(a)\n",
    "\n",
    "# Moving average\n",
    "a_avg = np.zeros_like(a)\n",
    "# We're just ignoring the edge effects here\n",
    "for i in range(1, len(a) - 1):\n",
    "    sub = a[i - 1:i + 2]\n",
    "    a_avg[i] = sub.mean()\n",
    "# For the first and last point, we use the original values.\n",
    "a_avg[[0, -1]] = a[[0, -1]]\n",
    "print(a_avg)"
   ]
  },
  {
   "cell_type": "markdown",
   "metadata": {},
   "source": [
    "Write a function *mov_avg* that takes an array in input and returns its 3-point moving average. You **have to use broadcasting** to compute the moving average. As in the example, use the original array values at the borders."
   ]
  },
  {
   "cell_type": "code",
   "execution_count": 32,
   "metadata": {},
   "outputs": [
    {
     "name": "stdout",
     "output_type": "stream",
     "text": [
      "[28.96666667 31.43333333 32.16666667 31.56666667 29.93333333 31.33333333\n",
      " 31.2        30.46666667 29.16666667 29.5        30.03333333 31.\n",
      " 30.83333333 32.06666667 32.13333333 31.53333333 30.6        29.\n",
      " 28.63333333 27.93333333]\n"
     ]
    }
   ],
   "source": [
    "###\n",
    "import numpy as np\n",
    "\n",
    "def mov_avg(arr):\n",
    "    \"\"\"\n",
    "    Compute the 3-point moving average of an array.\n",
    "    Parameters:\n",
    "        arr (numpy.ndarray): Input array.\n",
    "\n",
    "    Returns:\n",
    "        numpy.ndarray: Array containing the moving averages.\n",
    "    \"\"\"\n",
    "    # Pad the array with its original values at the borders\n",
    "    padded_arr = np.pad(arr, ((1, 1),), mode='edge')\n",
    "    \n",
    "    # Use broadcasting to compute the moving average (3 is extended to the size of the other arrays)\n",
    "    moving_avg = (padded_arr[:-2] + padded_arr[1:-1] + padded_arr[2:]) / 3\n",
    "    \n",
    "    return moving_avg\n",
    "\n",
    "# Example usage:\n",
    "arr = np.array(np.round(30 + np.random.randn(20) * 2, 1))\n",
    "result = mov_avg(arr)\n",
    "print(result)\n",
    "###"
   ]
  }
 ],
 "metadata": {
  "kernelspec": {
   "display_name": "dash",
   "language": "python",
   "name": "python3"
  },
  "language_info": {
   "codemirror_mode": {
    "name": "ipython",
    "version": 3
   },
   "file_extension": ".py",
   "mimetype": "text/x-python",
   "name": "python",
   "nbconvert_exporter": "python",
   "pygments_lexer": "ipython3",
   "version": "3.11.4"
  }
 },
 "nbformat": 4,
 "nbformat_minor": 2
}
