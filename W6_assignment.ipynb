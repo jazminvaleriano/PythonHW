{
 "cells": [
  {
   "cell_type": "markdown",
   "metadata": {},
   "source": [
    "<h2><center>Week 6 - Assignment</center></h2>\n",
    "<h3><center>Programming for Data Science 2024</center></h3>"
   ]
  },
  {
   "cell_type": "markdown",
   "metadata": {},
   "source": [
    "Exercises for the topics covered in the sixth lecture.\n",
    "\n",
    "The exercise will be marked as passed if you get **at least 10/15** points.\n",
    "\n",
    "Exercises must be handed in via **ILIAS** (Homework assignments). Deliver your submission as a compressed file (zip) containing one .py or .ipynb file with all exercises. The name of both the .zip and the .py/.ipynb file **must** be *SurnameName* of the two members of the group. Example: Riccardo Cusinato + Athina Tzovara = *CusinatoRiccardo_TzovaraAthina.zip* .\n",
    "\n",
    "It's important to use comments to explain your code and show that you're able to take ownership of the exercises and discuss them.\n",
    "\n",
    "You are not expected to collaborate outside of the group on exercises and submitting other groups’ code as your own will result in 0 points.\n",
    "\n",
    "For questions contact: *riccardo.cusinato@unibe.ch* with the subject: *Programming for Data Science 2024*.\n",
    "\n",
    "**Deadline: 14:00, April 11, 2024.**"
   ]
  },
  {
   "cell_type": "markdown",
   "metadata": {},
   "source": [
    "<h3 style=\"text-align:left;\">Exercise 1 - World Happiness Report<span style=\"float: right\">8 points</span></h3>"
   ]
  },
  {
   "cell_type": "markdown",
   "metadata": {},
   "source": [
    "You will find the CSV files *report.csv* and *region.csv* in the data folder for this assignment (Credit: https://www.kaggle.com/ajaypalsinghlo/world-happiness-report-2021).\n",
    "\n",
    "1. Import the two *csv* files and save them in two variables called *df_report* and *df_region*. Create a new column \"region\" in the *df_report* dataframe by populating it with the correct region in the *df_region* dataframe. If a country does not exist in *df_region*, label it as \"unknown\" in *df_report*. Print *df_report* at the end. (*2 points*)\n",
    "\n",
    "**NB** If you are unable to do the exercise, you can use the file *report_region.csv* in the data folder for the next points."
   ]
  },
  {
   "cell_type": "code",
   "execution_count": 4,
   "metadata": {},
   "outputs": [],
   "source": [
    "# Importing Necessary Libraries\n",
    "import pandas as pd\n",
    "import numpy as np\n",
    "\n",
    "# Loading the datasets\n",
    "\n",
    "df_report = pd.read_csv('./data/report.csv')\n",
    "df_region = pd.read_csv('./data/region.csv')"
   ]
  },
  {
   "cell_type": "markdown",
   "metadata": {},
   "source": [
    "2. Calculate and print the median \"Healthy life expectancy at birth\" per region in the year 2019. (*2 point*)"
   ]
  },
  {
   "cell_type": "code",
   "execution_count": null,
   "metadata": {},
   "outputs": [],
   "source": [
    "###\n",
    "# YOUR CODE HERE\n",
    "###"
   ]
  },
  {
   "cell_type": "markdown",
   "metadata": {},
   "source": [
    "3. Create a Pivot table with the median \"Healthy life expectancy at birth\" per region (index) per year (column) and print it. (*1 point*)"
   ]
  },
  {
   "cell_type": "code",
   "execution_count": null,
   "metadata": {},
   "outputs": [],
   "source": [
    "###\n",
    "# YOUR CODE HERE\n",
    "###"
   ]
  },
  {
   "cell_type": "markdown",
   "metadata": {},
   "source": [
    "4. Create a Pivot table (same structure as before) with the maximum \"Log GDP per capita\" per region per year and print it. In the resulting table, also add the overall values across years for each region, with the appropriate pandas method. (*1 point*)"
   ]
  },
  {
   "cell_type": "code",
   "execution_count": null,
   "metadata": {},
   "outputs": [],
   "source": [
    "###\n",
    "# YOUR CODE HERE\n",
    "###"
   ]
  },
  {
   "cell_type": "markdown",
   "metadata": {},
   "source": [
    "5. Find the length of the shortest country name(s) in the dataset and print it, together with the actual countries (print just the unique occurrences!). Then, create a new column ”Short name”, where each country name is cut down to the length of the shortest country name. For instance, if the country with the shortest name is Germany (7 letters, and not true, just an example), ”Switzerland” would become ”Switzer”. (*2 points*)"
   ]
  },
  {
   "cell_type": "code",
   "execution_count": null,
   "metadata": {},
   "outputs": [],
   "source": [
    "###\n",
    "# YOUR CODE HERE\n",
    "###"
   ]
  },
  {
   "cell_type": "markdown",
   "metadata": {},
   "source": [
    "<h3 style=\"text-align:left;\">Exercise 2 - Weather data<span style=\"float: right\">7 points</span></h3>"
   ]
  },
  {
   "cell_type": "markdown",
   "metadata": {},
   "source": [
    "In this exercise, you'll use the *weather.csv* dataset that contains UK weather data. The dataset has columns year and month describing which year and month a specific recording belongs to. (Credit: https://www.kaggle.com/josephw20/uk-met-office-weather-data)\n",
    "\n",
    "1. Import the dataset into a dataframe called *df_weather* and create a new column *datetime*, containing a datetime object for each row describing the year and month of the recording. The day can be set as the 1st of the month. Finally, print the dataframe. (*2 points*)\n",
    "\n",
    "**NB**  If you are unable to do this exercise, you can use the file *weather_datetime.csv* in the data folder for the next points."
   ]
  },
  {
   "cell_type": "code",
   "execution_count": 27,
   "metadata": {},
   "outputs": [
    {
     "name": "stdout",
     "output_type": "stream",
     "text": [
      "     year  month  tmax  tmin  af  rain  sun    station\n",
      "0  1941.0    1.0   NaN   NaN NaN  74.7  NaN  aberporth\n",
      "1  1941.0    2.0   NaN   NaN NaN  69.1  NaN  aberporth\n",
      "2  1941.0    3.0   NaN   NaN NaN  76.2  NaN  aberporth\n",
      "3  1941.0    4.0   NaN   NaN NaN  33.7  NaN  aberporth\n",
      "4  1941.0    5.0   NaN   NaN NaN  51.3  NaN  aberporth\n",
      "         year  month  tmax  tmin   af   rain    sun    station   datetime\n",
      "0      1941.0    1.0   NaN   NaN  NaN   74.7    NaN  aberporth 1941-01-01\n",
      "1      1941.0    2.0   NaN   NaN  NaN   69.1    NaN  aberporth 1941-02-01\n",
      "2      1941.0    3.0   NaN   NaN  NaN   76.2    NaN  aberporth 1941-03-01\n",
      "3      1941.0    4.0   NaN   NaN  NaN   33.7    NaN  aberporth 1941-04-01\n",
      "4      1941.0    5.0   NaN   NaN  NaN   51.3    NaN  aberporth 1941-05-01\n",
      "...       ...    ...   ...   ...  ...    ...    ...        ...        ...\n",
      "37044  2020.0    2.0  10.8   4.5  2.0  117.4   63.1  yeovilton 2020-02-01\n",
      "37045  2020.0    3.0  11.5   3.0  6.0   43.4  159.2  yeovilton 2020-03-01\n",
      "37046  2020.0    4.0  17.5   5.3  3.0   39.8  235.0  yeovilton 2020-04-01\n",
      "37047  2020.0    5.0  19.7   6.8  2.0    3.6  305.6  yeovilton 2020-05-01\n",
      "37048  2020.0    6.0  20.5  11.0  0.0  103.0  187.6  yeovilton 2020-06-01\n",
      "\n",
      "[37049 rows x 9 columns]\n"
     ]
    }
   ],
   "source": [
    "import pandas as pd\n",
    "\n",
    "# Load the dataset into a DataFrame\n",
    "df_weather = pd.read_csv(r'C:\\Users\\ASUS\\Documents\\Uni\\Courses\\Semester_2\\Advanced Python\\data\\weather.csv')\n",
    "\n",
    "# Display the first few rows of the DataFrame to understand its structure\n",
    "print(df_weather.head())\n",
    "\n",
    "# Create a new column 'datetime' containing a datetime object for each row\n",
    "# Using pd.to_datetime() to convert the year and month columns into datetime objects.\n",
    "# Assigning the day as 1 for all rows, as it's common to use the first day of the month for such datetime representations.\n",
    "# This operation effectively creates a datetime object representing the first day of each month for the given year and month.\n",
    "df_weather['datetime'] = pd.to_datetime(df_weather[['year', 'month']].assign(day=1))\n",
    "\n",
    "# Print the updated DataFrame\n",
    "print(df_weather)"
   ]
  },
  {
   "cell_type": "markdown",
   "metadata": {},
   "source": [
    "2. Write a function *mean_rainfall* that takes in input the dataframe, the name of a weather station, the upper and lower bounds of a time interval and computes the mean *rain* for the time period between (and including) the upper and lower bound. Make the station name not case-sensitive. Use the inputs as in the example below (i.e. upper and lower bounds as strings) (*3 points*)\n",
    "\n",
    "```python \n",
    "mean_rainfall(df_weather, \"Manston\", \"january 2019\", \"march 2020\")  # returns 49.52\n",
    "mean_rainfall(df_weather, \"manston\", \"january 2019\", \"march 2020\")  # also returns 49.52\n",
    "```"
   ]
  },
  {
   "cell_type": "code",
   "execution_count": 30,
   "metadata": {},
   "outputs": [
    {
     "name": "stdout",
     "output_type": "stream",
     "text": [
      "49.52\n",
      "49.52\n"
     ]
    }
   ],
   "source": [
    "\n",
    "\n",
    "import pandas as pd\n",
    "\n",
    "def mean_rainfall(df, station_name, start_date, end_date):\n",
    "    \"\"\"\n",
    "    Calculate the mean rainfall for a specified weather station within a given time interval.\n",
    "\n",
    "    Parameters:\n",
    "        df (DataFrame): The DataFrame containing weather data.\n",
    "        station_name (str): The name of the weather station (case-insensitive).\n",
    "        start_date (str): The start date of the time interval (format: \"Month Year\").\n",
    "        end_date (str): The end date of the time interval (format: \"Month Year\").\n",
    "\n",
    "    Returns:\n",
    "        float: The mean rainfall for the specified time period and weather station.\n",
    "    \"\"\"\n",
    "    # Convert station name to lowercase for case-insensitive comparison\n",
    "    station_name_lower = station_name.lower()\n",
    "    \n",
    "    # Convert start_date and end_date to datetime objects for comparison\n",
    "    start_date = pd.to_datetime(start_date)\n",
    "    end_date = pd.to_datetime(end_date)\n",
    "\n",
    "    # Filter rows by station name (case-insensitive) and datetime within specified interval\n",
    "    # Convert datetime to '%B %Y' format for comparison with start_date and end_date\n",
    "    # Convert 'datetime' column to datetime objects and then to strings in desired format\n",
    "    # Check if formatted datetime strings fall within specified start_date and end_date\n",
    "    filtered_df = df[(df['station'].str.lower() == station_name_lower) & # Filter station name (lowercase)\n",
    "                     (pd.to_datetime(df['datetime']).between(start_date, end_date))]  # Filter datetime\n",
    "\n",
    "    # Check if there are any rows in the filtered DataFrame\n",
    "    if filtered_df.empty:\n",
    "        print(\"No data available for the specified station and time interval.\")\n",
    "        return None\n",
    "\n",
    "    # Calculate the mean rainfall for the filtered data\n",
    "    mean_rainfall = filtered_df['rain'].mean()\n",
    "\n",
    "    return mean_rainfall\n",
    "\n",
    "# Load the weather data from weather_datetime.csv\n",
    "df_weather = pd.read_csv(r'C:\\Users\\ASUS\\Documents\\Uni\\Courses\\Semester_2\\Advanced Python\\data\\weather_datetime.csv')\n",
    "\n",
    "# Test the function\n",
    "print(mean_rainfall(df_weather, \"Manston\", \"January 2019\", \"March 2020\"))  # returns 49.52\n",
    "print(mean_rainfall(df_weather, \"manston\", \"January 2019\", \"March 2020\"))  # also returns 49.52\n",
    "\n"
   ]
  },
  {
   "cell_type": "markdown",
   "metadata": {},
   "source": [
    "3. Expand the function *mean_rainfall* of the previous point, such that it also returns the number of days since the maximum rainfall in the time-period selected and the current date (use 28th of March as reference) (*2 points*)\n",
    "\n",
    "```python \n",
    "mean_rainfall(df_weather, \"Manston\", \"january 2019\", \"march 2020\")  # returns 49.52, 1640\n",
    "```"
   ]
  },
  {
   "cell_type": "code",
   "execution_count": 33,
   "metadata": {},
   "outputs": [
    {
     "name": "stdout",
     "output_type": "stream",
     "text": [
      "Mean rainfall: 49.52\n",
      "Days since maximum rainfall in selected period: 1654\n",
      "Days since 28th of March: 14\n"
     ]
    }
   ],
   "source": [
    "import pandas as pd\n",
    "\n",
    "def mean_rainfall(df, station_name, start_date, end_date):\n",
    "    \"\"\"\n",
    "    Calculate the mean rainfall for a specified weather station within a given time interval,\n",
    "    and return the number of days since the maximum rainfall in the selected time period\n",
    "    and the current date (with 28th of March as reference).\n",
    "\n",
    "    Parameters:\n",
    "        df (DataFrame): The DataFrame containing weather data.\n",
    "        station_name (str): The name of the weather station (case-insensitive).\n",
    "        start_date (str): The start date of the time interval (format: \"Month Year\").\n",
    "        end_date (str): The end date of the time interval (format: \"Month Year\").\n",
    "\n",
    "    Returns:\n",
    "        tuple: A tuple containing the mean rainfall for the specified time period and weather station,\n",
    "        and the number of days since the maximum rainfall in the selected time period.\n",
    "    \"\"\"\n",
    "    # Convert station name to lowercase for case-insensitive comparison\n",
    "    station_name_lower = station_name.lower()\n",
    "    \n",
    "    # Convert start_date and end_date to datetime objects for comparison\n",
    "    start_date = pd.to_datetime(start_date)\n",
    "    end_date = pd.to_datetime(end_date)\n",
    "\n",
    "    # Filter DataFrame by station name and time interval\n",
    "    filtered_df = df[(df['station'].str.lower() == station_name_lower) &\n",
    "                     (pd.to_datetime(df['datetime']).between(start_date, end_date))]\n",
    "\n",
    "    # Check if there are any rows in the filtered DataFrame\n",
    "    if filtered_df.empty:\n",
    "        print(\"No data available for the specified station and time interval.\")\n",
    "        return None, None\n",
    "\n",
    "    # Calculate the mean rainfall for the filtered data\n",
    "    mean_rainfall = filtered_df['rain'].mean()\n",
    "\n",
    "    # Find the maximum rainfall and its corresponding date in the selected time period\n",
    "    max_rainfall_row = filtered_df.loc[filtered_df['rain'].idxmax()]\n",
    "    max_rainfall_date = pd.to_datetime(max_rainfall_row['datetime'])\n",
    "\n",
    "    # Calculate the number of days since the maximum rainfall in the selected time period\n",
    "    days_since_max_rainfall = (pd.Timestamp.now() - max_rainfall_date).days\n",
    "\n",
    "    # Calculate the number of days since the 28th of March (reference date)\n",
    "    reference_date = pd.Timestamp('2024-03-28')\n",
    "    days_since_reference_date = (pd.Timestamp.now() - reference_date).days\n",
    "\n",
    "    return mean_rainfall, days_since_max_rainfall, days_since_reference_date\n",
    "\n",
    "# Load the weather data from weather_datetime.csv\n",
    "df_weather = pd.read_csv(r'C:\\Users\\ASUS\\Documents\\Uni\\Courses\\Semester_2\\Advanced Python\\data\\weather_datetime.csv')\n",
    "\n",
    "# Test\n",
    "mean_rain, days_since_max_rainfall, days_since_ref_date = mean_rainfall(df_weather, \"Manston\", \"January 2019\", \"March 2020\")\n",
    "print(\"Mean rainfall:\", mean_rain)\n",
    "print(\"Days since maximum rainfall in selected period:\", days_since_max_rainfall)\n",
    "print(\"Days since 28th of March:\", days_since_ref_date)\n"
   ]
  }
 ],
 "metadata": {
  "kernelspec": {
   "display_name": "dash",
   "language": "python",
   "name": "python3"
  },
  "language_info": {
   "codemirror_mode": {
    "name": "ipython",
    "version": 3
   },
   "file_extension": ".py",
   "mimetype": "text/x-python",
   "name": "python",
   "nbconvert_exporter": "python",
   "pygments_lexer": "ipython3",
   "version": "3.11.7"
  }
 },
 "nbformat": 4,
 "nbformat_minor": 2
}
