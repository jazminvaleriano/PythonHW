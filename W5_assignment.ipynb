{
 "cells": [
  {
   "cell_type": "markdown",
   "metadata": {},
   "source": [
    "<h2><center>Week 5 - Assignment</center></h2>\n",
    "<h3><center>Programming for Data Science 2024</center></h3>"
   ]
  },
  {
   "cell_type": "markdown",
   "metadata": {},
   "source": [
    "Exercises for the topics covered in the fifth lecture.\n",
    "\n",
    "The exercise will be marked as passed if you get **at least 10/15** points.\n",
    "\n",
    "Exercises must be handed in via **ILIAS** (Homework assignments). Deliver your submission as a compressed file (zip) containing one .py or .ipynb file with all exercises. The name of both the .zip and the .py/.ipynb file **must** be *SurnameName* of the two members of the group. Example: Riccardo Cusinato + Athina Tzovara = *CusinatoRiccardo_TzovaraAthina.zip* .\n",
    "\n",
    "It's important to use comments to explain your code and show that you're able to take ownership of the exercises and discuss them.\n",
    "\n",
    "You are not expected to collaborate outside of the group on exercises and submitting other groups’ code as your own will result in 0 points.\n",
    "\n",
    "For questions contact: *riccardo.cusinato@unibe.ch* with the subject: *Programming for Data Science 2024*.\n",
    "\n",
    "**Deadline: 14:00, March 28, 2024.**"
   ]
  },
  {
   "cell_type": "markdown",
   "metadata": {},
   "source": [
    "<h3 style=\"text-align:left;\">Exercise 1 - Fitbit dataset<span style=\"float: right\">3 points</span></h3>"
   ]
  },
  {
   "cell_type": "markdown",
   "metadata": {},
   "source": [
    "We will work with three datasets - 'activity.csv', 'calories.csv', and 'last_participant.csv', which contains activity tracker data from https://www.kaggle.com/datasets/arashnic/fitbit\n",
    "\n",
    "If you are unable to do this exercise, you can load the dataset 'combined_solution.csv' for the next exercise. "
   ]
  },
  {
   "cell_type": "markdown",
   "metadata": {},
   "source": [
    "1. **Data preparation** (*1 point*)\n",
    "\n",
    "    - Load the two datasets 'activity.csv' and 'calories.csv'.\n",
    "    - Use pd.to_datetime to standardize the ActivityDate columns (https://pandas.pydata.org/docs/reference/api/pandas.to_datetime.html)"
   ]
  },
  {
   "cell_type": "code",
   "execution_count": 3,
   "metadata": {},
   "outputs": [
    {
     "name": "stdout",
     "output_type": "stream",
     "text": [
      "             ID ActivityDate  Calories\n",
      "0    1624580081   2016-04-12    1432.0\n",
      "1    1624580081   2016-04-13    1411.0\n",
      "2    1624580081   2016-04-14    1572.0\n",
      "3    1624580081   2016-04-15    1344.0\n",
      "4    1624580081   2016-04-16       NaN\n",
      "..          ...          ...       ...\n",
      "904  8792009665   2016-05-06    1688.0\n",
      "905  8792009665   2016-05-07    1688.0\n",
      "906  8792009665   2016-05-08    1688.0\n",
      "907  8792009665   2016-05-09    1688.0\n",
      "908  8792009665   2016-05-10       NaN\n",
      "\n",
      "[909 rows x 3 columns]\n",
      "             ID ActivityDate  TotalSteps  TotalDistance  VeryActiveDistance  \\\n",
      "0    1503960366   2016-04-12     13162.0           8.50                1.88   \n",
      "1    1503960366   2016-04-13     10735.0           6.97                1.57   \n",
      "2    1503960366   2016-04-14     10460.0           6.74                2.44   \n",
      "3    1503960366   2016-04-15      9762.0           6.28                2.14   \n",
      "4    1503960366   2016-04-16     12669.0           8.16                2.71   \n",
      "..          ...          ...         ...            ...                 ...   \n",
      "904  8792009665   2016-05-06         NaN           0.00                0.00   \n",
      "905  8792009665   2016-05-07         NaN           0.00                0.00   \n",
      "906  8792009665   2016-05-08         NaN           0.00                0.00   \n",
      "907  8792009665   2016-05-09         NaN           0.00                0.00   \n",
      "908  8792009665   2016-05-10         NaN           0.00                0.00   \n",
      "\n",
      "     ModeratelyActiveDistance  LightActiveDistance  VeryActiveMinutes  \\\n",
      "0                        0.55                 6.06                 25   \n",
      "1                        0.69                 4.71                 21   \n",
      "2                        0.40                 3.91                 30   \n",
      "3                        1.26                 2.83                 29   \n",
      "4                        0.41                 5.04                 36   \n",
      "..                        ...                  ...                ...   \n",
      "904                      0.00                 0.00                  0   \n",
      "905                      0.00                 0.00                  0   \n",
      "906                      0.00                 0.00                  0   \n",
      "907                      0.00                 0.00                  0   \n",
      "908                      0.00                 0.00                  0   \n",
      "\n",
      "     FairlyActiveMinutes  LightlyActiveMinutes  \n",
      "0                     13                   328  \n",
      "1                     19                   217  \n",
      "2                     11                   181  \n",
      "3                     34                   209  \n",
      "4                     10                   221  \n",
      "..                   ...                   ...  \n",
      "904                    0                     0  \n",
      "905                    0                     0  \n",
      "906                    0                     0  \n",
      "907                    0                     0  \n",
      "908                    0                     0  \n",
      "\n",
      "[909 rows x 10 columns]\n"
     ]
    }
   ],
   "source": [
    "# Importing Necessary Libraries\n",
    "import pandas as pd\n",
    "import numpy as np\n",
    "\n",
    "# Loading the datasets\n",
    "calories_df = pd.read_csv('./data/calories.csv')\n",
    "activity_df = pd.read_csv('./data/activity.csv')\n",
    "\n",
    "# Using pd.to_datetime() to standardize the date format in ActivityDate column\n",
    "activity_df['ActivityDate']=pd.to_datetime(activity_df['ActivityDate'])\n",
    "calories_df['ActivityDate']=pd.to_datetime(calories_df['ActivityDate'])\n",
    "\n",
    "\n",
    "# Print both dataframes\n",
    "print(calories_df)\n",
    "print(activity_df)"
   ]
  },
  {
   "cell_type": "markdown",
   "metadata": {},
   "source": [
    "2. **Merging** (*1 point*)\n",
    "\n",
    "    - Consider what information is shared between the two datasets and merge them. Keep in mind that the order of rows is not the same in both datasets!\n",
    "    - Print out the mean \"TotalSteps\" of the merged DataFrame at this point."
   ]
  },
  {
   "cell_type": "code",
   "execution_count": 15,
   "metadata": {},
   "outputs": [
    {
     "name": "stdout",
     "output_type": "stream",
     "text": [
      "mean of the merged df:  7786.438763376932\n"
     ]
    }
   ],
   "source": [
    "# Merge the activity and calories df by ID and Activity Date\n",
    "merged_df = activity_df.merge(calories_df, on=['ID', 'ActivityDate'])\n",
    "\n",
    "\n",
    "# Calculate the mean of the merged df column \"TotalSteps\" \n",
    "mean_merged = merged_df['TotalSteps'].mean()\n",
    "print('mean of the merged df: ', mean_merged)\n"
   ]
  },
  {
   "cell_type": "markdown",
   "metadata": {},
   "source": [
    "3. **Concatenation** (*1 point*)\n",
    "\n",
    "    - The data of one additional participant exists in 'last_participant.csv'. Load this dataset and concatenate it with the merged dataset generated above\n",
    "    - Print out the mean \"TotalSteps\" again"
   ]
  },
  {
   "cell_type": "code",
   "execution_count": 7,
   "metadata": {},
   "outputs": [
    {
     "data": {
      "text/html": [
       "<div>\n",
       "<style scoped>\n",
       "    .dataframe tbody tr th:only-of-type {\n",
       "        vertical-align: middle;\n",
       "    }\n",
       "\n",
       "    .dataframe tbody tr th {\n",
       "        vertical-align: top;\n",
       "    }\n",
       "\n",
       "    .dataframe thead th {\n",
       "        text-align: right;\n",
       "    }\n",
       "</style>\n",
       "<table border=\"1\" class=\"dataframe\">\n",
       "  <thead>\n",
       "    <tr style=\"text-align: right;\">\n",
       "      <th></th>\n",
       "      <th>ID</th>\n",
       "      <th>ActivityDate</th>\n",
       "      <th>TotalSteps</th>\n",
       "      <th>TotalDistance</th>\n",
       "      <th>VeryActiveDistance</th>\n",
       "      <th>ModeratelyActiveDistance</th>\n",
       "      <th>LightActiveDistance</th>\n",
       "      <th>VeryActiveMinutes</th>\n",
       "      <th>FairlyActiveMinutes</th>\n",
       "      <th>LightlyActiveMinutes</th>\n",
       "      <th>Calories</th>\n",
       "    </tr>\n",
       "  </thead>\n",
       "  <tbody>\n",
       "    <tr>\n",
       "      <th>0</th>\n",
       "      <td>1503960366</td>\n",
       "      <td>2016-04-12</td>\n",
       "      <td>13162.0</td>\n",
       "      <td>8.500000</td>\n",
       "      <td>1.88</td>\n",
       "      <td>0.55</td>\n",
       "      <td>6.06</td>\n",
       "      <td>25</td>\n",
       "      <td>13</td>\n",
       "      <td>328</td>\n",
       "      <td>1985.0</td>\n",
       "    </tr>\n",
       "    <tr>\n",
       "      <th>1</th>\n",
       "      <td>1503960366</td>\n",
       "      <td>2016-04-13</td>\n",
       "      <td>10735.0</td>\n",
       "      <td>6.970000</td>\n",
       "      <td>1.57</td>\n",
       "      <td>0.69</td>\n",
       "      <td>4.71</td>\n",
       "      <td>21</td>\n",
       "      <td>19</td>\n",
       "      <td>217</td>\n",
       "      <td>NaN</td>\n",
       "    </tr>\n",
       "    <tr>\n",
       "      <th>2</th>\n",
       "      <td>1503960366</td>\n",
       "      <td>2016-04-14</td>\n",
       "      <td>10460.0</td>\n",
       "      <td>6.740000</td>\n",
       "      <td>2.44</td>\n",
       "      <td>0.40</td>\n",
       "      <td>3.91</td>\n",
       "      <td>30</td>\n",
       "      <td>11</td>\n",
       "      <td>181</td>\n",
       "      <td>1776.0</td>\n",
       "    </tr>\n",
       "    <tr>\n",
       "      <th>3</th>\n",
       "      <td>1503960366</td>\n",
       "      <td>2016-04-15</td>\n",
       "      <td>9762.0</td>\n",
       "      <td>6.280000</td>\n",
       "      <td>2.14</td>\n",
       "      <td>1.26</td>\n",
       "      <td>2.83</td>\n",
       "      <td>29</td>\n",
       "      <td>34</td>\n",
       "      <td>209</td>\n",
       "      <td>1745.0</td>\n",
       "    </tr>\n",
       "    <tr>\n",
       "      <th>4</th>\n",
       "      <td>1503960366</td>\n",
       "      <td>2016-04-16</td>\n",
       "      <td>12669.0</td>\n",
       "      <td>8.160000</td>\n",
       "      <td>2.71</td>\n",
       "      <td>0.41</td>\n",
       "      <td>5.04</td>\n",
       "      <td>36</td>\n",
       "      <td>10</td>\n",
       "      <td>221</td>\n",
       "      <td>1863.0</td>\n",
       "    </tr>\n",
       "    <tr>\n",
       "      <th>...</th>\n",
       "      <td>...</td>\n",
       "      <td>...</td>\n",
       "      <td>...</td>\n",
       "      <td>...</td>\n",
       "      <td>...</td>\n",
       "      <td>...</td>\n",
       "      <td>...</td>\n",
       "      <td>...</td>\n",
       "      <td>...</td>\n",
       "      <td>...</td>\n",
       "      <td>...</td>\n",
       "    </tr>\n",
       "    <tr>\n",
       "      <th>964</th>\n",
       "      <td>8877689391</td>\n",
       "      <td>2016-08-05</td>\n",
       "      <td>10686.0</td>\n",
       "      <td>8.110000</td>\n",
       "      <td>1.08</td>\n",
       "      <td>0.20</td>\n",
       "      <td>6.80</td>\n",
       "      <td>17</td>\n",
       "      <td>4</td>\n",
       "      <td>245</td>\n",
       "      <td>2847.0</td>\n",
       "    </tr>\n",
       "    <tr>\n",
       "      <th>965</th>\n",
       "      <td>8877689391</td>\n",
       "      <td>2016-09-05</td>\n",
       "      <td>20226.0</td>\n",
       "      <td>18.250000</td>\n",
       "      <td>11.10</td>\n",
       "      <td>0.80</td>\n",
       "      <td>6.24</td>\n",
       "      <td>73</td>\n",
       "      <td>19</td>\n",
       "      <td>217</td>\n",
       "      <td>3710.0</td>\n",
       "    </tr>\n",
       "    <tr>\n",
       "      <th>966</th>\n",
       "      <td>8877689391</td>\n",
       "      <td>2016-10-05</td>\n",
       "      <td>10733.0</td>\n",
       "      <td>8.150000</td>\n",
       "      <td>1.35</td>\n",
       "      <td>0.46</td>\n",
       "      <td>6.28</td>\n",
       "      <td>18</td>\n",
       "      <td>11</td>\n",
       "      <td>224</td>\n",
       "      <td>2832.0</td>\n",
       "    </tr>\n",
       "    <tr>\n",
       "      <th>967</th>\n",
       "      <td>8877689391</td>\n",
       "      <td>2016-11-05</td>\n",
       "      <td>21420.0</td>\n",
       "      <td>19.559999</td>\n",
       "      <td>13.22</td>\n",
       "      <td>0.41</td>\n",
       "      <td>5.89</td>\n",
       "      <td>88</td>\n",
       "      <td>12</td>\n",
       "      <td>213</td>\n",
       "      <td>3832.0</td>\n",
       "    </tr>\n",
       "    <tr>\n",
       "      <th>968</th>\n",
       "      <td>8877689391</td>\n",
       "      <td>2016-12-05</td>\n",
       "      <td>8064.0</td>\n",
       "      <td>6.120000</td>\n",
       "      <td>1.82</td>\n",
       "      <td>0.04</td>\n",
       "      <td>4.25</td>\n",
       "      <td>23</td>\n",
       "      <td>1</td>\n",
       "      <td>137</td>\n",
       "      <td>1849.0</td>\n",
       "    </tr>\n",
       "  </tbody>\n",
       "</table>\n",
       "<p>969 rows × 11 columns</p>\n",
       "</div>"
      ],
      "text/plain": [
       "             ID ActivityDate  TotalSteps  TotalDistance  VeryActiveDistance  \\\n",
       "0    1503960366   2016-04-12     13162.0       8.500000                1.88   \n",
       "1    1503960366   2016-04-13     10735.0       6.970000                1.57   \n",
       "2    1503960366   2016-04-14     10460.0       6.740000                2.44   \n",
       "3    1503960366   2016-04-15      9762.0       6.280000                2.14   \n",
       "4    1503960366   2016-04-16     12669.0       8.160000                2.71   \n",
       "..          ...          ...         ...            ...                 ...   \n",
       "964  8877689391   2016-08-05     10686.0       8.110000                1.08   \n",
       "965  8877689391   2016-09-05     20226.0      18.250000               11.10   \n",
       "966  8877689391   2016-10-05     10733.0       8.150000                1.35   \n",
       "967  8877689391   2016-11-05     21420.0      19.559999               13.22   \n",
       "968  8877689391   2016-12-05      8064.0       6.120000                1.82   \n",
       "\n",
       "     ModeratelyActiveDistance  LightActiveDistance  VeryActiveMinutes  \\\n",
       "0                        0.55                 6.06                 25   \n",
       "1                        0.69                 4.71                 21   \n",
       "2                        0.40                 3.91                 30   \n",
       "3                        1.26                 2.83                 29   \n",
       "4                        0.41                 5.04                 36   \n",
       "..                        ...                  ...                ...   \n",
       "964                      0.20                 6.80                 17   \n",
       "965                      0.80                 6.24                 73   \n",
       "966                      0.46                 6.28                 18   \n",
       "967                      0.41                 5.89                 88   \n",
       "968                      0.04                 4.25                 23   \n",
       "\n",
       "     FairlyActiveMinutes  LightlyActiveMinutes  Calories  \n",
       "0                     13                   328    1985.0  \n",
       "1                     19                   217       NaN  \n",
       "2                     11                   181    1776.0  \n",
       "3                     34                   209    1745.0  \n",
       "4                     10                   221    1863.0  \n",
       "..                   ...                   ...       ...  \n",
       "964                    4                   245    2847.0  \n",
       "965                   19                   217    3710.0  \n",
       "966                   11                   224    2832.0  \n",
       "967                   12                   213    3832.0  \n",
       "968                    1                   137    1849.0  \n",
       "\n",
       "[969 rows x 11 columns]"
      ]
     },
     "execution_count": 7,
     "metadata": {},
     "output_type": "execute_result"
    }
   ],
   "source": [
    "last_df = pd.read_csv('./data/last_participant.csv')\n",
    "last_df['ActivityDate'] = pd.to_datetime(last_df['ActivityDate'])\n",
    "concatenated_df = pd.concat([merged_df, last_df], ignore_index=True)\n",
    "concatenated_df"
   ]
  },
  {
   "cell_type": "markdown",
   "metadata": {},
   "source": [
    "<h3 style=\"text-align:left;\">Exercise 2 - Working with missing data<span style=\"float: right\">5 points</span></h3>"
   ]
  },
  {
   "cell_type": "markdown",
   "metadata": {},
   "source": [
    "In our dataset, some values are missing from the 'TotalSteps' and 'Calories' columns.\n",
    "\n",
    "We can try to approximate these missing values with the data we got. \n",
    "\n",
    "You can load the dataset 'combined_solution.csv' if you were unable to complete the previous exercise."
   ]
  },
  {
   "cell_type": "markdown",
   "metadata": {},
   "source": [
    "1. **Filling in missing values** (*3 points*)\n",
    "\n",
    "    - Calculate the mean steps per calory burnt and mean calories burnt per step, by averaging across all observations in the dataset and then computing the ratio. Print out both values.\n",
    "    - Fill in the null values in the columns 'Calories' and 'TotalSteps' where possible. To fill the values you have to use the factors *\"TotalSteps/Calories\"* and *\"Calories/TotalSteps\"* calculated in the previous point, using one of the two information to fill the other.\n",
    "    - Print out the mean of the columns 'TotalSteps' and 'Calories' before and after filling the missing values."
   ]
  },
  {
   "cell_type": "code",
   "execution_count": null,
   "metadata": {},
   "outputs": [],
   "source": [
    "###\n",
    "# YOUR CODE HERE\n",
    "###"
   ]
  },
  {
   "cell_type": "markdown",
   "metadata": {},
   "source": [
    "2. **Dropping missing values** (*2 points*)\n",
    "\n",
    "    - Print how many null values there are in the 'Calories' and 'TotalSteps' columns, respectively.\n",
    "    - Drop the rows where **both** 'Calories' and 'TotalSteps' are missing.\n",
    "    - Print number of rows in the final dataset."
   ]
  },
  {
   "cell_type": "code",
   "execution_count": null,
   "metadata": {},
   "outputs": [],
   "source": [
    "###\n",
    "# YOUR CODE HERE\n",
    "###"
   ]
  },
  {
   "cell_type": "markdown",
   "metadata": {},
   "source": [
    "<h3 style=\"text-align:left;\">Exercise 3 - Multi-index<span style=\"float: right\">7 points</span></h3>"
   ]
  },
  {
   "cell_type": "markdown",
   "metadata": {},
   "source": [
    "In this exercise you will create and manipulate a multi-index dataframe. First, let's create the dataframe for the exercise:"
   ]
  },
  {
   "cell_type": "code",
   "execution_count": null,
   "metadata": {},
   "outputs": [],
   "source": [
    "import pandas as pd\n",
    "\n",
    "df = pd.DataFrame(\n",
    "    {\n",
    "        \"idx\": [0, 1, 2],\n",
    "        \"A_X\": [1.1, 1.1, 1.1],\n",
    "        \"A_Y\": [1.2, 1.2, 1.2],\n",
    "        \"B_X\": [1.11, 1.11, 1.11],\n",
    "        \"B_Y\": [1.22, 1.22, 1.22],\n",
    "    }\n",
    ")"
   ]
  },
  {
   "cell_type": "markdown",
   "metadata": {},
   "source": [
    "1. Set the column *idx* as the index of the dataframe. (*1 point*)"
   ]
  },
  {
   "cell_type": "code",
   "execution_count": null,
   "metadata": {},
   "outputs": [],
   "source": [
    "###\n",
    "# YOUR CODE HERE\n",
    "###"
   ]
  },
  {
   "cell_type": "markdown",
   "metadata": {},
   "source": [
    "2. Create a multi-column stucture. (*3 points*)\n",
    "    - Set the columns *A, B* on the first level and *X, Y* on the second level, taken from the combinations in the original dataframe. \n",
    "    - Set the names of the two new levels as \"L1\" and \"L2\", respectively. \n",
    "    - Print the resulting dataframe."
   ]
  },
  {
   "cell_type": "code",
   "execution_count": null,
   "metadata": {},
   "outputs": [],
   "source": [
    "###\n",
    "# YOUR CODE HERE\n",
    "###"
   ]
  },
  {
   "cell_type": "markdown",
   "metadata": {},
   "source": [
    "3. From the previous dataframe, re-create a dataframe with a single column level. (*3 points*)\n",
    "    - Create a new column from the first level (L1) of the multi-column. At this point your columns should be ['L1', 'X', 'Y'], with name 'L2'. **NB** The DataFrame method *reset_index* is useful for this part.\n",
    "    - Rename the newly-created column as \"letter\" and the name of the column level as \"L\". Use the appropiate pandas methods for this.\n",
    "    - Print the resulting dataframe."
   ]
  },
  {
   "cell_type": "code",
   "execution_count": null,
   "metadata": {},
   "outputs": [],
   "source": [
    "###\n",
    "# YOUR CODE HERE\n",
    "###"
   ]
  }
 ],
 "metadata": {
  "kernelspec": {
   "display_name": "dash",
   "language": "python",
   "name": "python3"
  },
  "language_info": {
   "codemirror_mode": {
    "name": "ipython",
    "version": 3
   },
   "file_extension": ".py",
   "mimetype": "text/x-python",
   "name": "python",
   "nbconvert_exporter": "python",
   "pygments_lexer": "ipython3",
   "version": "3.11.4"
  }
 },
 "nbformat": 4,
 "nbformat_minor": 2
}
