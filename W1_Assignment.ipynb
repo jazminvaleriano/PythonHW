{
 "cells": [
  {
   "cell_type": "markdown",
   "metadata": {},
   "source": [
    "<h2><center>Week 1 - Assignment</center></h2>\n",
    "<h3><center>Programming for Data Science 2024</center></h3>"
   ]
  },
  {
   "cell_type": "markdown",
   "metadata": {},
   "source": [
    "Exercises for the topics covered in the first lecture.\n",
    "\n",
    "The exercise will be marked as passed if you get **at least 10/15** points.\n",
    "\n",
    "Exercises must be handed in via **ILIAS** (Homework assignments). Deliver your submission as a compressed file (zip) containing one .py or .ipynb file with all exercises. The name of both the .zip and the .py/.ipynb file must be *SurnameName* of the two members of the group. Example: Riccardo Cusinato + Athina Tzovara = *CusinatoRiccardo_TzovaraAthina.zip* .\n",
    "\n",
    "It's important to use comments to explain your code and show that you're able to take ownership of the exercises and discuss them.\n",
    "\n",
    "You are not expected to collaborate outside of the group on exercises and submitting other groups’ code as your own will result in 0 points.\n",
    "\n",
    "For questions contact: *riccardo.cusinato@unibe.ch* with the subject: *Programming for Data Science 2024*.\n",
    "\n",
    "**Deadline: 14:00, February 29, 2024.**"
   ]
  },
  {
   "cell_type": "markdown",
   "metadata": {},
   "source": [
    "<h3 style=\"text-align:left;\">Exercise 1 - Indentation<span style=\"float: right\">1 point</span></h3>"
   ]
  },
  {
   "cell_type": "markdown",
   "metadata": {},
   "source": [
    "Fix the indentation in the following code. Output should be ”[0, 1, 2]”."
   ]
  },
  {
   "cell_type": "code",
   "execution_count": 3,
   "metadata": {},
   "outputs": [
    {
     "name": "stdout",
     "output_type": "stream",
     "text": [
      "[0, 1, 2]\n"
     ]
    }
   ],
   "source": [
    "## Creating a subset of values from 0 to 2 from a list of values from 0 to N_max.\n",
    "\n",
    "# Set the maximum value for the loop\n",
    "N_max = 5\n",
    "# Initialize a counter variable\n",
    "n = 0\n",
    "# Initialize an empty list\n",
    "n_list = []\n",
    "\n",
    "#Loop through the range of numbers from 0 to N_max\n",
    "for n in range(N_max):\n",
    "\n",
    "    # Check if current value is still smaller than 3\n",
    "    if n < 3:\n",
    "\n",
    "        # Append value to the list\n",
    "        n_list.append(n)\n",
    "        \n",
    "#Print the full list of appended values\n",
    "print(n_list)"
   ]
  },
  {
   "cell_type": "markdown",
   "metadata": {},
   "source": [
    "<h3 style=\"text-align:left;\">Exercise 2 - Python variables<span style=\"float: right\">1 point</span></h3>"
   ]
  },
  {
   "cell_type": "markdown",
   "metadata": {},
   "source": [
    "In class, you've seen how Python variables are internally stored. Given the following piece of code, what do you expect to happen? Why? How can you check where the two lists are stored in memory? Comment and write additional code."
   ]
  },
  {
   "cell_type": "code",
   "execution_count": 4,
   "metadata": {},
   "outputs": [
    {
     "name": "stdout",
     "output_type": "stream",
     "text": [
      "[1, 2, 3, 4]\n",
      "4413291136\n",
      "4413291136\n"
     ]
    }
   ],
   "source": [
    "# Define two lists\n",
    "list1 = [1, 2, 3]\n",
    "list2 = list1 #the value of list1 is assigned to list2, thus they point to the same object in the memory.\n",
    "\n",
    "# Append\n",
    "list2.append(4) #appending list2 also appends list1. \n",
    "\n",
    "print(list1) #list1 will be [1, 2, 3, 4]\n",
    "\n",
    "#To check where they are stored in memory use the id function\n",
    "print(id(list1))\n",
    "print(id(list2))\n",
    "#They will have the same id"
   ]
  },
  {
   "cell_type": "markdown",
   "metadata": {},
   "source": [
    "What is the difference between the following list *lst* and tuple *tpl*? Comment."
   ]
  },
  {
   "cell_type": "code",
   "execution_count": 5,
   "metadata": {},
   "outputs": [
    {
     "name": "stdout",
     "output_type": "stream",
     "text": [
      "[1, 2, 3, 4]\n"
     ]
    },
    {
     "ename": "AttributeError",
     "evalue": "'tuple' object has no attribute 'append'",
     "output_type": "error",
     "traceback": [
      "\u001b[0;31m---------------------------------------------------------------------------\u001b[0m",
      "\u001b[0;31mAttributeError\u001b[0m                            Traceback (most recent call last)",
      "Cell \u001b[0;32mIn[5], line 9\u001b[0m\n\u001b[1;32m      6\u001b[0m lst\u001b[38;5;241m.\u001b[39mappend(\u001b[38;5;241m4\u001b[39m)\n\u001b[1;32m      7\u001b[0m \u001b[38;5;28mprint\u001b[39m(lst) \u001b[38;5;66;03m#This will print a list [1, 2, 3, 4]\u001b[39;00m\n\u001b[0;32m----> 9\u001b[0m \u001b[43mtpl\u001b[49m\u001b[38;5;241;43m.\u001b[39;49m\u001b[43mappend\u001b[49m(\u001b[38;5;241m4\u001b[39m) \n\u001b[1;32m     10\u001b[0m \u001b[38;5;28mprint\u001b[39m(tpl) \u001b[38;5;66;03m#whereas, this will raise an error stating that tuple has no 'append' attribute\u001b[39;00m\n",
      "\u001b[0;31mAttributeError\u001b[0m: 'tuple' object has no attribute 'append'"
     ]
    }
   ],
   "source": [
    "lst = [1, 2, 3]\n",
    "tpl = (1, 2, 3)\n",
    "\n",
    "#lists are mutable and tuples are immutable.\n",
    "#for ex:\n",
    "lst.append(4)\n",
    "print(lst) #This will print a list [1, 2, 3, 4]\n",
    "\n",
    "tpl.append(4) \n",
    "print(tpl) #whereas, this will raise an error stating that tuple has no 'append' attribute"
   ]
  },
  {
   "cell_type": "markdown",
   "metadata": {},
   "source": [
    "<h3 style=\"text-align:left;\">Exercise 2 - List intersection<span style=\"float: right\">2 points</span></h3>"
   ]
  },
  {
   "cell_type": "markdown",
   "metadata": {},
   "source": [
    "Write a program that takes two lists, and returns another list with the elements common to both of them. Example:\n",
    "```python \n",
    "list1 = [1, 2, 3]\n",
    "list2 = [3, 4, 5]\n",
    "output = [3]\n",
    "```\n",
    "Additionally,\n",
    "- Write the code as a function called *lists_intersection* that takes two lists as input as gives the intersection list as output."
   ]
  },
  {
   "cell_type": "code",
   "execution_count": null,
   "metadata": {},
   "outputs": [
    {
     "data": {
      "text/plain": [
       "[1, 2, 3]"
      ]
     },
     "execution_count": 1,
     "metadata": {},
     "output_type": "execute_result"
    }
   ],
   "source": [
    "### \n",
    "def lists_intersection(list1,list2):\n",
    "    \"\"\"\n",
    "    Compares two lists, and returns a list with the unique common elements.\n",
    "    \"\"\"\n",
    "    # Initialize an empty list to store the common elements\n",
    "    common_elements = []\n",
    "    # Iterate along the elements of list 1 and compares them with list 2\n",
    "    for element in list1:\n",
    "        if element in list2 and element not in common_elements:\n",
    "            # Appends current element to the common_elements list only if it doesn't exist already\n",
    "            common_elements.append(element)\n",
    "    \n",
    "    return common_elements\n",
    "\n",
    "# Use example\n",
    "list1=[1,2,3,4,5,1]\n",
    "list2=[1,2,3,0,0,1]\n",
    "lists_intersection(list1,list2)\n"
   ]
  },
  {
   "cell_type": "code",
   "execution_count": 2,
   "metadata": {},
   "outputs": [
    {
     "data": {
      "text/plain": [
       "[1, 2, 3]"
      ]
     },
     "execution_count": 2,
     "metadata": {},
     "output_type": "execute_result"
    }
   ],
   "source": [
    "# Alternative solution\n",
    "def lists_intersection(list1,list2):\n",
    "    output = list(set(list1) & set(list2))\n",
    "    return output\n",
    "\n",
    "list1=[1,2,3,4,5,1]\n",
    "list2=[1,2,3,0,0,1]\n",
    "lists_intersection(list1,list2)\n"
   ]
  },
  {
   "cell_type": "markdown",
   "metadata": {},
   "source": [
    "<h3 style=\"text-align:left;\">Exercise 3 - Strings filter<span style=\"float: right\">3 points</span></h3>"
   ]
  },
  {
   "cell_type": "markdown",
   "metadata": {},
   "source": [
    "Write a function named *strings_filter* that takes a list of strings and a number and returns another list with only the strings *shorter* than that number. Example:\n",
    "```python \n",
    "strings_filter([\"Python\", \"hello\", \"C++\"], 4)   # returns [\"C++\"]\n",
    "strings_filter([\"Python\", \"hello\", \"C++\"], 6)   # returns [\"hello\", \"C++\"]\n",
    "```\n",
    "Hint: you can accomplish this using a for loop."
   ]
  },
  {
   "cell_type": "code",
   "execution_count": null,
   "metadata": {},
   "outputs": [
    {
     "name": "stdout",
     "output_type": "stream",
     "text": [
      "['hello', 'C++']\n"
     ]
    }
   ],
   "source": [
    "###\n",
    "#defined the function with the two arguments\n",
    "def strings_filter(list_, num_): \n",
    "    \"\"\"\n",
    "    Takes a list_ of strings and returns another list with the strings shorter than num_. \n",
    "    \"\"\"\n",
    "#created a new empty list for saving the strings shorter than the given number\n",
    "    new_list = []  \n",
    "    #found the strings shorter than the number using the for loop and if statement,\n",
    "    #for the comparison of length of strings to the number and appended the strings to the new list.\n",
    "    for strs_ in list_:\n",
    "        if len(strs_) < num_:\n",
    "            new_list.append(strs_) \n",
    "                                    \n",
    "    return new_list\n",
    "\n",
    "#Test function:\n",
    "print(strings_filter([\"Python\", \"hello\", \"C++\"], 6))\n",
    "###"
   ]
  },
  {
   "cell_type": "markdown",
   "metadata": {},
   "source": [
    "<h3 style=\"text-align:left;\">Exercise 4 - Leap years on Mars<span style=\"float: right\">4 points</span></h3>"
   ]
  },
  {
   "cell_type": "markdown",
   "metadata": {},
   "source": [
    "2024 is a leap year on Earth, meaning a year has one more day (29th of February). On Earth, leap years are those that are divisible by 4 (like 2024, 2028, etc.). \n",
    "\n",
    "On Mars, instead, leap years are those divisible by 6 (like 2028, 2034, etc.), with some exceptions:\n",
    "- if a year is divisible by 120 (e.g. 1680) or 36 (e.g. 2016), it's *not* a leap year.\n",
    "- however, if the year is divisible by 600 (e.g. 1800), it *is* a leap year, independently of the previous condition.\n",
    "\n",
    "Your task is to write a function named *is_leap_year* that asks the user to input a year, and returns True if it is a leap year on Mars, False otherwise. Example:\n",
    "```python\n",
    "is_leap_year(2028)  # returns True\n",
    "is_leap_year(2024)  # returns False (not divisible by 6)\n",
    "is_leap_year(1680)  # returns False (divisible by 120)\n",
    "is_leap_year(1800)  # returns True (divisible by 600)\n",
    "is_leap_year(2016)  # returns False (is divisible by 36)\n",
    "```\n",
    "N.B. The return type must be *boolean*.\n",
    "\n",
    "Additionally:\n",
    "- add a constrain that prints \"Can't calculate leap year\" if the given year is before 0 or after 5000."
   ]
  },
  {
   "cell_type": "code",
   "execution_count": null,
   "metadata": {},
   "outputs": [
    {
     "name": "stdout",
     "output_type": "stream",
     "text": [
      "True\n",
      "False\n",
      "False\n",
      "True\n",
      "False\n"
     ]
    },
    {
     "ename": "ValueError",
     "evalue": "Can't calculate leap year",
     "output_type": "error",
     "traceback": [
      "\u001b[0;31m---------------------------------------------------------------------------\u001b[0m",
      "\u001b[0;31mValueError\u001b[0m                                Traceback (most recent call last)",
      "Cell \u001b[0;32mIn[6], line 27\u001b[0m\n\u001b[1;32m     25\u001b[0m \u001b[38;5;28mprint\u001b[39m(is_leap_year(\u001b[38;5;241m1800\u001b[39m))\n\u001b[1;32m     26\u001b[0m \u001b[38;5;28mprint\u001b[39m(is_leap_year(\u001b[38;5;241m2016\u001b[39m))\n\u001b[0;32m---> 27\u001b[0m \u001b[38;5;28mprint\u001b[39m(\u001b[43mis_leap_year\u001b[49m\u001b[43m(\u001b[49m\u001b[38;5;241;43m6000\u001b[39;49m\u001b[43m)\u001b[49m)\n\u001b[1;32m     28\u001b[0m \u001b[38;5;66;03m###\u001b[39;00m\n",
      "Cell \u001b[0;32mIn[6], line 7\u001b[0m, in \u001b[0;36mis_leap_year\u001b[0;34m(year)\u001b[0m\n\u001b[1;32m      3\u001b[0m \u001b[38;5;250m\u001b[39m\u001b[38;5;124;03m\"\"\"\u001b[39;00m\n\u001b[1;32m      4\u001b[0m \u001b[38;5;124;03mTakes a year (from 0 to 5000) as an input and returns a boolean variable that is True if year is a leap year in Mars.\u001b[39;00m\n\u001b[1;32m      5\u001b[0m \u001b[38;5;124;03m\"\"\"\u001b[39;00m\n\u001b[1;32m      6\u001b[0m \u001b[38;5;28;01mif\u001b[39;00m year \u001b[38;5;241m<\u001b[39m \u001b[38;5;241m0\u001b[39m \u001b[38;5;129;01mor\u001b[39;00m year \u001b[38;5;241m>\u001b[39m \u001b[38;5;241m5000\u001b[39m:\n\u001b[0;32m----> 7\u001b[0m     \u001b[38;5;28;01mraise\u001b[39;00m \u001b[38;5;167;01mValueError\u001b[39;00m(\u001b[38;5;124m\"\u001b[39m\u001b[38;5;124mCan\u001b[39m\u001b[38;5;124m'\u001b[39m\u001b[38;5;124mt calculate leap year\u001b[39m\u001b[38;5;124m\"\u001b[39m)\n\u001b[1;32m      9\u001b[0m \u001b[38;5;28;01mif\u001b[39;00m year \u001b[38;5;241m%\u001b[39m \u001b[38;5;241m6\u001b[39m \u001b[38;5;241m==\u001b[39m \u001b[38;5;241m0\u001b[39m:\n\u001b[1;32m     10\u001b[0m     \u001b[38;5;28;01mif\u001b[39;00m year \u001b[38;5;241m%\u001b[39m \u001b[38;5;241m600\u001b[39m \u001b[38;5;241m==\u001b[39m \u001b[38;5;241m0\u001b[39m:\n",
      "\u001b[0;31mValueError\u001b[0m: Can't calculate leap year"
     ]
    }
   ],
   "source": [
    "###\n",
    "def is_leap_year(year):\n",
    "    \"\"\"\n",
    "    Takes a year (from 0 to 5000) as an input and returns a boolean variable that is True if year is a leap year in Mars.\n",
    "    \"\"\"\n",
    "    # Check if value is within the accepted range (0-5000):\n",
    "    if year < 0 or year > 5000:\n",
    "        raise ValueError(\"Can't calculate leap year\")\n",
    "    \n",
    "    # Check if year falls within conditions for leap year in Mars:\n",
    "    if year % 6 == 0:\n",
    "        if year % 600 == 0:\n",
    "            year_is_leap = True\n",
    "        elif year % 120 == 0 or year % 36 == 0:\n",
    "            year_is_leap = False\n",
    "        else:\n",
    "            year_is_leap = True\n",
    "    else:\n",
    "        year_is_leap = False\n",
    "        \n",
    "    return year_is_leap\n",
    "\n",
    "#Test function:\n",
    "print(is_leap_year(2028))\n",
    "print(is_leap_year(2024))\n",
    "print(is_leap_year(1680))\n",
    "print(is_leap_year(1800))\n",
    "print(is_leap_year(2016))\n",
    "print(is_leap_year(6000))\n",
    "###"
   ]
  },
  {
   "cell_type": "markdown",
   "metadata": {},
   "source": [
    "<h3 style=\"text-align:left;\">Exercise 5 - Number divisors<span style=\"float: right\">4 points</span></h3>"
   ]
  },
  {
   "cell_type": "markdown",
   "metadata": {},
   "source": [
    "A divisor of a number, is another number that divides the first number without reminder, e.g. 4 is a divisor of 20. 1 and the number itself are always divisors. \n",
    "\n",
    "Write a function named *find_divisors* that takes a number in input and returns *all* its divisors. Example:\n",
    "```python \n",
    "find_divisors(20)  # returns [1, 2, 4, 5, 10, 20]\n",
    "find_divisors(7)  # returns [1, 7]\n",
    "```\n",
    "Additionally:\n",
    "- write a second version of the function called *find_common_divisors* that takes two numbers and returns all the *common* divisors. Example:\n",
    "```python \n",
    "find_common_divisors(20, 30)  # returns [1, 2, 5, 10]\n",
    "find_common_divisors(5, 7)  # returns [1]\n",
    "```\n",
    "Hint: exploit the previous function *find_divisors* to build this one."
   ]
  },
  {
   "cell_type": "code",
   "execution_count": null,
   "metadata": {},
   "outputs": [
    {
     "name": "stdout",
     "output_type": "stream",
     "text": [
      "[1, 2, 4, 5, 10, 20]\n",
      "[1, 2, 3, 5, 6, 10, 15, 30]\n",
      "[1, 2, 5, 10]\n"
     ]
    }
   ],
   "source": [
    "###\n",
    "def find_divisors(num_):\n",
    "    \"\"\"\n",
    "    Takes a number as input and returns all its divisors\n",
    "    \"\"\"\n",
    "    #defined an empty list to store the divisors of num_\n",
    "    num_divisors = []\n",
    "\n",
    "    #using for loop to iterate from 1 to the given number (num_+1 as python does not count the upper bound)\n",
    "    for i in range(1, num_ +1):\n",
    "        #using if to check if i is a divisor of num_\n",
    "        if num_ % i == 0:\n",
    "            #appending i to the list num_divisors\n",
    "            num_divisors.append(i)\n",
    "    \n",
    "    return num_divisors\n",
    "\n",
    "def find_common_divisors(num_1, num_2):\n",
    "    #using the find_divisors function to find the divisors of num_1 and num_2\n",
    "    divisors_1 = find_divisors(num_1)\n",
    "    divisors_2 = find_divisors(num_2)\n",
    "\n",
    "    #defined a new list for storing the common divisors\n",
    "    common_divisors = []\n",
    "\n",
    "    #using a for loop to iterate over the divisors of num_1\n",
    "    for divs in divisors_1:\n",
    "        #if statement to check if divs is a divisor of num_2:\n",
    "        if divs in divisors_2:\n",
    "            #appending divs to common_divisors\n",
    "            common_divisors.append(divs)\n",
    "    \n",
    "    return common_divisors\n",
    "\n",
    "\n",
    "divisors_num1 = find_divisors(20)\n",
    "print(divisors_num1)\n",
    "\n",
    "divisors_num2 = find_divisors(30)\n",
    "print(divisors_num2)\n",
    "\n",
    "divisors_common = find_common_divisors(20, 30)\n",
    "print(divisors_common)\n",
    "###"
   ]
  }
 ],
 "metadata": {
  "kernelspec": {
   "display_name": "dash",
   "language": "python",
   "name": "python3"
  },
  "language_info": {
   "codemirror_mode": {
    "name": "ipython",
    "version": 3
   },
   "file_extension": ".py",
   "mimetype": "text/x-python",
   "name": "python",
   "nbconvert_exporter": "python",
   "pygments_lexer": "ipython3",
   "version": "3.11.2"
  }
 },
 "nbformat": 4,
 "nbformat_minor": 2
}
